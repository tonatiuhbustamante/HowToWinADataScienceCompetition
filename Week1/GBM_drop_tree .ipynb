{
 "cells": [
  {
   "cell_type": "markdown",
   "metadata": {},
   "source": [
    "Hi! In this notebook we will do a little \"how *Gradient Boosting* works\" and find out answer for the question:\n",
    "## \"Will performance of GBDT model drop dramatically if we remove the first tree?\""
   ]
  },
  {
   "cell_type": "code",
   "execution_count": 1,
   "metadata": {},
   "outputs": [],
   "source": [
    "import numpy as np\n",
    "import matplotlib.pyplot as plt\n",
    "import seaborn as sns\n",
    "%matplotlib inline \n",
    "\n",
    "from sklearn.metrics import log_loss\n",
    "from sklearn.tree import DecisionTreeClassifier\n",
    "from sklearn.ensemble import GradientBoostingClassifier\n",
    "from sklearn.datasets import make_hastie_10_2\n",
    "from sklearn.model_selection import train_test_split\n",
    "\n",
    "def sigmoid(x):\n",
    "    return 1 / (1 + np.exp(-x))"
   ]
  },
  {
   "cell_type": "markdown",
   "metadata": {},
   "source": [
    "# Make dataset\n",
    "We will use a very simple dataset: objects will come from 1D normal distribution, we will need to predict class $1$ if the object is positive and 0 otherwise."
   ]
  },
  {
   "cell_type": "code",
   "execution_count": 2,
   "metadata": {},
   "outputs": [],
   "source": [
    "X_all = np.random.randn(5000, 1)\n",
    "y_all = (X_all[:, 0] > 0)*2 - 1\n",
    "\n",
    "X_train, X_test, y_train, y_test = train_test_split(X_all, y_all, test_size=0.5, random_state=42)"
   ]
  },
  {
   "cell_type": "markdown",
   "metadata": {},
   "source": [
    "The dataset is really simple and can be solved with a single decision stump."
   ]
  },
  {
   "cell_type": "code",
   "execution_count": 3,
   "metadata": {},
   "outputs": [
    {
     "name": "stdout",
     "output_type": "stream",
     "text": [
      "Accuracy for a single decision stump: 1.0\n"
     ]
    }
   ],
   "source": [
    "clf = DecisionTreeClassifier(max_depth=1)\n",
    "clf.fit(X_train, y_train)\n",
    "\n",
    "print ('Accuracy for a single decision stump: {}'.format(clf.score(X_test, y_test)))"
   ]
  },
  {
   "cell_type": "markdown",
   "metadata": {},
   "source": [
    "# Learn GBM"
   ]
  },
  {
   "cell_type": "markdown",
   "metadata": {},
   "source": [
    "But we will need 800 trees in GBM to classify it correctly."
   ]
  },
  {
   "cell_type": "code",
   "execution_count": 4,
   "metadata": {},
   "outputs": [
    {
     "name": "stdout",
     "output_type": "stream",
     "text": [
      "Test logloss: 0.00031374506447441315\n"
     ]
    }
   ],
   "source": [
    "# For convenience we will use sklearn's GBM, the situation will be similar with XGBoost and others\n",
    "clf = GradientBoostingClassifier(n_estimators=5000, learning_rate=0.01, max_depth=3, random_state=0)\n",
    "clf.fit(X_train, y_train)\n",
    "\n",
    "y_pred = clf.predict_proba(X_test)[:, 1]\n",
    "print(\"Test logloss: {}\".format(log_loss(y_test, y_pred)))"
   ]
  },
  {
   "cell_type": "code",
   "execution_count": 5,
   "metadata": {},
   "outputs": [
    {
     "name": "stdout",
     "output_type": "stream",
     "text": [
      "Logloss using all trees:           0.00031374506447441315\n",
      "Logloss using all trees but last:  0.00031374506447441315\n",
      "Logloss using all trees but first: 0.00032037493471027273\n"
     ]
    }
   ],
   "source": [
    "def compute_loss(y_true, scores_pred):\n",
    "    '''\n",
    "        Since we use raw scores we will wrap log_loss \n",
    "        and apply sigmoid to our predictions before computing log_loss itself\n",
    "    '''\n",
    "    return log_loss(y_true, sigmoid(scores_pred))\n",
    "    \n",
    "\n",
    "'''\n",
    "    Get cummulative sum of *decision function* for trees. i-th element is a sum of trees 0...i-1.\n",
    "    We cannot use staged_predict_proba, since we want to maniputate raw scores\n",
    "    (not probabilities). And only in the end convert the scores to probabilities using sigmoid\n",
    "'''\n",
    "cum_preds = np.array([x for x in clf.staged_decision_function(X_test)])[:, :, 0] \n",
    "\n",
    "print (\"Logloss using all trees:           {}\".format(compute_loss(y_test, cum_preds[-1, :])))\n",
    "print (\"Logloss using all trees but last:  {}\".format(compute_loss(y_test, cum_preds[-2, :])))\n",
    "print (\"Logloss using all trees but first: {}\".format(compute_loss(y_test, cum_preds[-1, :] - cum_preds[0, :])))"
   ]
  },
  {
   "cell_type": "markdown",
   "metadata": {},
   "source": [
    "You can see that there is a difference, but not as huge as one could expect! Moreover, if we get rid of the first tree — overall model still works! \n",
    "\n",
    "If this is supprising for you — take a look at the plot of cummulative decision function depending on the number of trees."
   ]
  },
  {
   "cell_type": "code",
   "execution_count": 6,
   "metadata": {},
   "outputs": [
    {
     "data": {
      "image/png": "[encoded data removed]",
      "text/plain": [
       "<Figure size 432x288 with 1 Axes>"
      ]
     },
     "metadata": {},
     "output_type": "display_data"
    }
   ],
   "source": [
    "# Pick an object of class 1 for visualisation\n",
    "plt.plot(cum_preds[:, y_test == 1][:, 0])\n",
    "\n",
    "plt.xlabel('n_trees')\n",
    "plt.ylabel('Cumulative decision score');"
   ]
  },
  {
   "cell_type": "markdown",
   "metadata": {},
   "source": [
    "See, the decision function improves almost linearly untill about 800 iteration and then stops. And the slope of this line is connected with the learning rate, that we have set in GBM! \n",
    "\n",
    "If you remember the main formula of boosting, you can write something like:\n",
    "    $$ F(x) = const + \\sum\\limits_{i=1}^{n}\\gamma_i h_i(x) $$\n",
    "\n",
    "In our case, $\\gamma_i$ are constant and equal to learning rate $\\eta = 0.01$. And look, it takes about $800$ iterations to get the score $8$, which means at every iteration score goes up for about $0.01$. It means that first 800 terms are approximately equal to $0.01$, and the following are almost $0$. \n",
    "\n",
    "We see, that if we drop the last tree, we lower $F(x)$ by $0$ and if we drop the first tree we lower $F(x)$ by $0.01$, which results in a very very little performance drop.  \n",
    "\n",
    "So, even in the case of simple dataset which can be solved with single decision stump, in GBM we need to sum a lot of trees (roughly $\\frac{1}{\\eta}$) to approximate this golden single decision stump."
   ]
  },
  {
   "cell_type": "markdown",
   "metadata": {},
   "source": [
    "**To prove the point**, let's try a larger learning rate of $8$."
   ]
  },
  {
   "cell_type": "code",
   "execution_count": 7,
   "metadata": {},
   "outputs": [
    {
     "name": "stdout",
     "output_type": "stream",
     "text": [
      "Test logloss: 3.0653797591472493e-06\n"
     ]
    }
   ],
   "source": [
    "clf = GradientBoostingClassifier(n_estimators=5000, learning_rate=8, max_depth=3, random_state=0)\n",
    "clf.fit(X_train, y_train)\n",
    "\n",
    "y_pred = clf.predict_proba(X_test)[:, 1]\n",
    "print(\"Test logloss: {}\".format(log_loss(y_test, y_pred)))"
   ]
  },
  {
   "cell_type": "code",
   "execution_count": 8,
   "metadata": {},
   "outputs": [
    {
     "name": "stdout",
     "output_type": "stream",
     "text": [
      "Logloss using all trees:           3.0653797591472493e-06\n",
      "Logloss using all trees but last:  2.9744118237551943e-06\n",
      "Logloss using all trees but first: 2.2045375082540537\n"
     ]
    }
   ],
   "source": [
    "cum_preds = np.array([x for x in clf.staged_decision_function(X_test)])[:, :, 0] \n",
    "\n",
    "print (\"Logloss using all trees:           {}\".format(compute_loss(y_test, cum_preds[-1, :])))\n",
    "print (\"Logloss using all trees but last:  {}\".format(compute_loss(y_test, cum_preds[-2, :])))\n",
    "print (\"Logloss using all trees but first: {}\".format(compute_loss(y_test, cum_preds[-1, :] - cum_preds[0, :])))"
   ]
  },
  {
   "cell_type": "markdown",
   "metadata": {},
   "source": [
    "That is it! Now we see, that it is crucial to have the first tree in the ensemble!"
   ]
  },
  {
   "cell_type": "markdown",
   "metadata": {},
   "source": [
    "Even though the dataset is synthetic, the similar intuition will work with the real data, except GBM can diverge with high learning rates for a more complex dataset. If you want to play with a little bit more realistic dataset, you can generate it in this notebook with the following code:\n",
    "\n",
    "`X_all, y_all = make_hastie_10_2(random_state=0)` \n",
    "\n",
    "and run the code starting from \"Learn GBM\"."
   ]
  },
  {
   "cell_type": "code",
   "execution_count": null,
   "metadata": {},
   "outputs": [],
   "source": []
  }
 ],
 "metadata": {
  "kernelspec": {
   "display_name": "Python 3",
   "language": "python",
   "name": "python3"
  },
  "language_info": {
   "codemirror_mode": {
    "name": "ipython",
    "version": 3
   },
   "file_extension": ".py",
   "mimetype": "text/x-python",
   "name": "python",
   "nbconvert_exporter": "python",
   "pygments_lexer": "ipython3",
   "version": "3.6.5"
  }
 },
 "nbformat": 4,
 "nbformat_minor": 2
}
